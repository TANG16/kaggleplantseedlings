{
 "cells": [
  {
   "cell_type": "code",
   "execution_count": null,
   "metadata": {},
   "outputs": [],
   "source": [
    "import os\n",
    "import torch\n",
    "import numpy as np\n",
    "\n",
    "from functions import models\n",
    "from functions import txt_gen \n",
    "from functions import data_view\n",
    "from functions import train_model\n",
    "from configs.plantseed_config import config\n",
    "from functions.dataloaders import ListDataset\n",
    "from functions.vis_error import error_checking"
   ]
  },
  {
   "cell_type": "code",
   "execution_count": null,
   "metadata": {},
   "outputs": [],
   "source": [
    "opt = config()\n",
    "opt.batch_size = 32\n",
    "opt.LR = 0.002\n",
    "opt.epochs = 5\n",
    "opt.use_checkpoint = True"
   ]
  },
  {
   "cell_type": "code",
   "execution_count": null,
   "metadata": {},
   "outputs": [],
   "source": [
    "txt_gen.gen_train_valid(opt.home_loc+\"input/\")"
   ]
  },
  {
   "cell_type": "code",
   "execution_count": null,
   "metadata": {},
   "outputs": [],
   "source": [
    "print(\"Load dataloaders....\")\n",
    "trainset = ListDataset(opt, train = \"train\")\n",
    "train_loader = torch.utils.data.DataLoader(trainset, batch_size = opt.batch_size, shuffle=True, num_workers = 2)\n",
    "valset = ListDataset(opt, train = \"valid\")\n",
    "valid_loader = torch.utils.data.DataLoader(valset, batch_size = opt.batch_size, shuffle=True, num_workers = 2)\n",
    "dataloaders = {'train':train_loader, 'valid':valid_loader}\n",
    "dataset_sizes = {'train': len(train_loader.dataset), 'valid': len(valid_loader.dataset)}\n",
    "\n",
    "train_dir = opt.home_loc + \"input/train\"\n",
    "classes = os.listdir(train_dir)\n",
    "classes = sorted(classes, key = lambda item: (int(item.partition(' ')[0]) if item[0].isdigit() else float('inf'), item))\n",
    "print(classes)"
   ]
  },
  {
   "cell_type": "code",
   "execution_count": null,
   "metadata": {},
   "outputs": [],
   "source": [
    "data_view.vis_unnormalise(dataloaders, classes)"
   ]
  },
  {
   "cell_type": "code",
   "execution_count": null,
   "metadata": {},
   "outputs": [],
   "source": [
    "device = torch.device(\"cuda:0\" if torch.cuda.is_available() else \"cpu\")\n",
    "print(device)"
   ]
  },
  {
   "cell_type": "code",
   "execution_count": null,
   "metadata": {},
   "outputs": [],
   "source": [
    "model_conv = models.resnet50(12, pretrained = True)\n",
    "model_conv = model_conv.to(device)\n",
    "criterion = torch.nn.CrossEntropyLoss()\n",
    "optimizer = torch.optim.SGD(model_conv.parameters(), lr = opt.LR, momentum=opt.momentum, \n",
    "                      nesterov=opt.nesterov, weight_decay=opt.weight_decay)\n",
    "exp_lr_scheduler = torch.optim.lr_scheduler.StepLR(optimizer, step_size=5, gamma=0.3)"
   ]
  },
  {
   "cell_type": "code",
   "execution_count": null,
   "metadata": {},
   "outputs": [],
   "source": [
    "params = {\n",
    "    'model':model_conv,\n",
    "    'criterion' : criterion,\n",
    "    'optimizer' : optimizer,\n",
    "    'scheduler' : exp_lr_scheduler,\n",
    "    'dataloaders' : dataloaders,\n",
    "    'dataset_sizes' : dataset_sizes,\n",
    "    'use_checkpoint' : opt.use_checkpoint,\n",
    "    'epoch' : opt.epochs,\n",
    "    'device' : device\n",
    "}"
   ]
  },
  {
   "cell_type": "code",
   "execution_count": null,
   "metadata": {},
   "outputs": [],
   "source": [
    "model_conv, train_loss, val_loss, train_acc, val_acc, get_lr = train_model.train(params)"
   ]
  },
  {
   "cell_type": "code",
   "execution_count": null,
   "metadata": {},
   "outputs": [],
   "source": [
    "train_model.classwise_accuracy(model_conv, dataloaders, classes, device)"
   ]
  },
  {
   "cell_type": "code",
   "execution_count": null,
   "metadata": {},
   "outputs": [],
   "source": [
    "import inference"
   ]
  },
  {
   "cell_type": "code",
   "execution_count": null,
   "metadata": {},
   "outputs": [],
   "source": [
    "exm = error_checking()"
   ]
  },
  {
   "cell_type": "code",
   "execution_count": null,
   "metadata": {},
   "outputs": [],
   "source": [
    "exm.worst_prediction(\"Black-grass\", num=5, imgs_per_row =3)"
   ]
  },
  {
   "cell_type": "code",
   "execution_count": null,
   "metadata": {},
   "outputs": [],
   "source": [
    "exm.best_prediction(\"Loose Silky-bent\", 15, 4)"
   ]
  },
  {
   "cell_type": "code",
   "execution_count": null,
   "metadata": {},
   "outputs": [],
   "source": [
    "from matplotlib import pyplot as plt\n",
    "\n",
    "epchs = np.linspace(0,len(train_loss), num = len(train_loss))\n",
    "\n",
    "plt.figure(1)\n",
    "plt.plot(epchs, train_loss, label='train_loss')\n",
    "plt.plot(epchs, val_loss, label='val_loss')\n",
    "plt.xlabel(\"epochs\")\n",
    "plt.ylabel(\"Loss\")\n",
    "plt.legend()\n",
    "plt.show()\n",
    "plt.close()"
   ]
  },
  {
   "cell_type": "code",
   "execution_count": null,
   "metadata": {},
   "outputs": [],
   "source": [
    "plt.figure(2)\n",
    "plt.plot(epchs, get_lr)\n",
    "plt.xlabel(\"epochs\")\n",
    "plt.ylabel(\"LR\")\n",
    "plt.show()\n",
    "plt.close()"
   ]
  },
  {
   "cell_type": "code",
   "execution_count": null,
   "metadata": {},
   "outputs": [],
   "source": [
    "plt.figure(3)\n",
    "plt.plot(epchs, train_acc, label = 'train_acc')\n",
    "plt.plot(epchs, val_acc, label = 'val_acc')\n",
    "plt.xlabel(\"epochs\")\n",
    "plt.ylabel(\"accuracy\")\n",
    "plt.legend()\n",
    "plt.show()\n",
    "plt.close()"
   ]
  },
  {
   "cell_type": "code",
   "execution_count": null,
   "metadata": {},
   "outputs": [],
   "source": []
  }
 ],
 "metadata": {
  "kernelspec": {
   "display_name": "Python 3",
   "language": "python",
   "name": "python3"
  },
  "language_info": {
   "codemirror_mode": {
    "name": "ipython",
    "version": 3
   },
   "file_extension": ".py",
   "mimetype": "text/x-python",
   "name": "python",
   "nbconvert_exporter": "python",
   "pygments_lexer": "ipython3",
   "version": "3.6.4"
  }
 },
 "nbformat": 4,
 "nbformat_minor": 2
}
